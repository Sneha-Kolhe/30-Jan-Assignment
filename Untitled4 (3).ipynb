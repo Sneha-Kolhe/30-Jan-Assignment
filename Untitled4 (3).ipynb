{
 "cells": [
  {
   "cell_type": "markdown",
   "id": "c320c973-ee4f-4d21-9444-783c6cdf47fa",
   "metadata": {},
   "source": [
    "## Q1.While and when to use while loop in python give a detailed description with example"
   ]
  },
  {
   "cell_type": "code",
   "execution_count": null,
   "id": "798dc66e-d972-4d5b-969b-daeff600d8c3",
   "metadata": {},
   "outputs": [],
   "source": [
    "In Python, a while loop is used to repeatedly execute a block of code as long as a specified condition is true. It's particularly useful when you want to perform an action repeatedly until a certain condition is met. Here's a detailed description of when and how to use a while loop in Python, along with an example:\n",
    "\n",
    "When to Use a While Loop:\n",
    "When you want to iterate based on a condition: If you need to repeat a block of code until a particular condition becomes false, a while loop is suitable.\n",
    "\n",
    "When the number of iterations is not predetermined: Unlike for loops where you iterate over a predefined sequence, while loops are used when you don't know beforehand how many times you need to repeat the code.\n",
    "\n",
    "When the condition to terminate the loop might change within the loop: while loops are handy when the condition for termination depends on some dynamic changes happening inside the loop.\n",
    "\n",
    "Syntax:\n",
    "while condition:\n",
    "    # code block to be executed"
   ]
  },
  {
   "cell_type": "code",
   "execution_count": 8,
   "id": "755f7812-1175-4373-a638-fa1c3b1b1de5",
   "metadata": {},
   "outputs": [],
   "source": [
    "## Q2.Use nested while loop to print 3 different  pattern ?"
   ]
  },
  {
   "cell_type": "markdown",
   "id": "0f26c691-c1c7-4911-b0f9-2e211ea6801f",
   "metadata": {},
   "source": [
    "Pattern 1: Square Pattern\n",
    "python\n",
    "Copy code\n",
    "rows = 5\n",
    "cols = 5\n",
    "\n",
    "# Nested while loop to print square pattern\n",
    "i = 0\n",
    "while i < rows:\n",
    "    j = 0\n",
    "    while j < cols:\n",
    "        print(\"*\", end=\" \")\n",
    "        j += 1\n",
    "    print()  # Move to the next line after printing each row\n",
    "    i += 1\n",
    "Output:\n",
    "\n",
    "markdown\n",
    "\n",
    "* * * * * \n",
    "* * * * * \n",
    "* * * * * \n",
    "* * * * * \n",
    "* * * * * \n",
    "Pattern 2: Right Triangle Pattern\n",
    "\n",
    "rows = 5\n",
    "\n",
    "# Nested while loop to print right triangle pattern\n",
    "i = 0\n",
    "while i < rows:\n",
    "    j = 0\n",
    "    while j <= i:\n",
    "        print(\"*\", end=\" \")\n",
    "        j += 1\n",
    "    print()  # Move to the next line after printing each row\n",
    "    i += 1\n",
    "Output:\n",
    "\n",
    "\n",
    "* \n",
    "* * \n",
    "* * * \n",
    "* * * * \n",
    "* * * * * \n",
    "Pattern 3: Inverted Right Triangle Pattern\n",
    "\n",
    "rows = 5\n",
    "\n",
    "# Nested while loop to print inverted right triangle pattern\n",
    "i = 0\n",
    "while i < rows:\n",
    "    j = rows\n",
    "    while j > i:\n",
    "        print(\"*\", end=\" \")\n",
    "        j -= 1\n",
    "    print()  # Move to the next line after printing each row\n",
    "    i += 1\n",
    "Output:\n",
    "\n",
    "\n",
    "* * * * * \n",
    "* * * * \n",
    "* * * \n",
    "* * \n",
    "* \n",
    "These examples demonstrate how nested while loops can be used to print various patterns. The outer while loop controls the number of rows, while the inner while loop controls the number of symbols printed in each row."
   ]
  },
  {
   "cell_type": "markdown",
   "id": "4745662c-5f9f-4dd0-bda1-0a19c191e33c",
   "metadata": {},
   "source": [
    "## Q3.reverse a while loop to display numbers from 10 to 1"
   ]
  },
  {
   "cell_type": "code",
   "execution_count": null,
   "id": "02aaa2bd-6ad0-4996-8ec8-491532778f67",
   "metadata": {},
   "outputs": [],
   "source": [
    "To reverse a while loop and display numbers from 10 to 1, you simply need to initialize your counter variable to 10 and decrement it in each iteration until it reaches 1. Here's how you can achieve this:\n",
    "\n",
    "num = 10\n",
    "\n",
    "while num >= 1:\n",
    "    print(num)\n",
    "    num -= 1\n",
    "This code will output:\n",
    "\n",
    "10\n",
    "9\n",
    "8\n",
    "7\n",
    "6\n",
    "5\n",
    "4\n",
    "3\n",
    "2\n",
    "1"
   ]
  },
  {
   "cell_type": "code",
   "execution_count": null,
   "id": "b9e1f454-c1ed-4795-ac9c-ad21151c1b59",
   "metadata": {},
   "outputs": [],
   "source": []
  }
 ],
 "metadata": {
  "kernelspec": {
   "display_name": "Python 3 (ipykernel)",
   "language": "python",
   "name": "python3"
  },
  "language_info": {
   "codemirror_mode": {
    "name": "ipython",
    "version": 3
   },
   "file_extension": ".py",
   "mimetype": "text/x-python",
   "name": "python",
   "nbconvert_exporter": "python",
   "pygments_lexer": "ipython3",
   "version": "3.10.8"
  }
 },
 "nbformat": 4,
 "nbformat_minor": 5
}
